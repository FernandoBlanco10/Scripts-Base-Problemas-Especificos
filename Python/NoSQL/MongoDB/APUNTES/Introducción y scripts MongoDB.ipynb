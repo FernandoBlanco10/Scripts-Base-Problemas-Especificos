{
 "cells": [
  {
   "cell_type": "markdown",
   "id": "8bd47fcb",
   "metadata": {},
   "source": [
    "\n",
    "# 🧠 Apuntes de MongoDB (Basado en el curso \"Introducción a las Bases de Datos NoSQL\")\n",
    "\n",
    "MongoDB es una **base de datos NoSQL orientada a documentos**, que almacena información en **documentos BSON (Binary JSON)**.\n",
    "Estos documentos son similares a los objetos JSON, lo que permite **flexibilidad en el esquema** y **alta escalabilidad horizontal**.\n",
    "\n",
    "## Características principales\n",
    "- No requiere esquema fijo.  \n",
    "- Escala horizontalmente mediante *sharding*.  \n",
    "- Permite indexación, agregaciones y consultas complejas.  \n",
    "- Ideal para datos semiestructurados o heterogéneos.\n"
   ]
  },
  {
   "cell_type": "markdown",
   "id": "51ff1fbe",
   "metadata": {},
   "source": [
    "\n",
    "## 2. Problemática de ejemplo: Sistema de Cotizaciones “RabloQuote”\n",
    "\n",
    "La empresa **RabloQuote** guarda solicitudes de cotización de clientes.  \n",
    "Cada cotización puede tener:\n",
    "\n",
    "- ID del cliente (`id_rablo`)\n",
    "- Productos solicitados\n",
    "- Estatus del proceso\n",
    "- Fechas de creación y respuesta\n"
   ]
  },
  {
   "cell_type": "code",
   "execution_count": null,
   "id": "bc176c2d",
   "metadata": {},
   "outputs": [],
   "source": [
    "\n",
    "# Ejemplo de documento JSON\n",
    "{\n",
    "  \"id_rablo\": \"R123\",\n",
    "  \"cliente\": \"Juan Pérez\",\n",
    "  \"productos\": [\n",
    "    {\"nombre\": \"Sensor de temperatura\", \"cantidad\": 5, \"precio_unitario\": 25.5},\n",
    "    {\"nombre\": \"Motor DC\", \"cantidad\": 2, \"precio_unitario\": 60.0}\n",
    "  ],\n",
    "  \"estatus\": \"En proceso\",\n",
    "  \"fecha_creacion\": ISODate(\"2025-10-31T09:00:00Z\"),\n",
    "  \"fecha_respuesta\": null\n",
    "}\n"
   ]
  },
  {
   "cell_type": "markdown",
   "id": "2eb77d10",
   "metadata": {},
   "source": [
    "\n",
    "## 3. Creación y Conexión a MongoDB\n",
    "\n",
    "### En el shell de MongoDB\n"
   ]
  },
  {
   "cell_type": "code",
   "execution_count": null,
   "id": "4d8fc363",
   "metadata": {},
   "outputs": [],
   "source": [
    "\n",
    "mongosh                                 # Activar mongo shell en consola\n",
    "\n",
    "use miBaseDeDatos;                      # Mover a base de datos\n",
    "db.createCollection(\"cotizaciones\");    # Crea nueva colección\n",
    "\n",
    "db                         # Base de datos actual\n",
    "show dbs                   # Listar bases de datos\n",
    "show collections           # Listar colecciones\n",
    "db.cotizaciones.stats()    # Detalles de colección\n"
   ]
  },
  {
   "cell_type": "markdown",
   "id": "dca4bff1",
   "metadata": {},
   "source": [
    "### Inserción de documentos de ejemplo"
   ]
  },
  {
   "cell_type": "code",
   "execution_count": null,
   "id": "dd3ffe80",
   "metadata": {},
   "outputs": [],
   "source": [
    "\n",
    "# Insertar varios documentos en coleccion\n",
    "\n",
    "db.cotizaciones.insertMany([\n",
    "  {\n",
    "    id_rablo: \"R123\",\n",
    "    cliente: \"Juan Pérez\",\n",
    "    productos: [\n",
    "      { nombre: \"Sensor de temperatura\", cantidad: 5, precio_unitario: 25.5 },\n",
    "      { nombre: \"Motor DC\", cantidad: 2, precio_unitario: 60.0 }\n",
    "    ],\n",
    "    estatus: \"En proceso\",\n",
    "    fecha_creacion: new Date(\"2025-10-31T09:00:00Z\"),\n",
    "    fecha_respuesta: null\n",
    "  },\n",
    "  {\n",
    "    id_rablo: \"R123\",\n",
    "    cliente: \"Juan Pérez\",\n",
    "    productos: [\n",
    "      { nombre: \"Arduino Uno\", cantidad: 1, precio_unitario: 45.0 }\n",
    "    ],\n",
    "    estatus: \"Finalizado\",\n",
    "    fecha_creacion: new Date(\"2025-10-25T10:00:00Z\"),\n",
    "    fecha_respuesta: new Date(\"2025-10-27T15:00:00Z\")\n",
    "  },\n",
    "  {\n",
    "    id_rablo: \"R987\",\n",
    "    cliente: \"María Gómez\",\n",
    "    productos: [\n",
    "      { nombre: \"Sensor de luz\", cantidad: 10, precio_unitario: 5.0 }\n",
    "    ],\n",
    "    estatus: \"Pendiente\",\n",
    "    fecha_creacion: new Date(\"2025-10-30T11:00:00Z\"),\n",
    "    fecha_respuesta: null\n",
    "  }\n",
    "]);\n",
    "\n",
    "db.cotizaciones.find()  # Ver contenido actualizado en coleccion      \n"
   ]
  },
  {
   "cell_type": "markdown",
   "id": "8d086971",
   "metadata": {},
   "source": [
    "\n",
    "## 4. Conexión desde Python (con PyMongo)\n"
   ]
  },
  {
   "cell_type": "code",
   "execution_count": 12,
   "id": "be9fae47",
   "metadata": {},
   "outputs": [
    {
     "name": "stdout",
     "output_type": "stream",
     "text": [
      "{'_id': ObjectId('6904f9ea2e3790a884cebea4'), 'id_rablo': 'R123', 'cliente': 'Juan Pérez', 'productos': [{'nombre': 'Sensor de temperatura', 'cantidad': 5, 'precio_unitario': 25.5}, {'nombre': 'Motor DC', 'cantidad': 2, 'precio_unitario': 60}], 'estatus': 'En proceso', 'fecha_creacion': datetime.datetime(2025, 10, 31, 9, 0), 'fecha_respuesta': None}\n",
      "{'_id': ObjectId('6904f9ea2e3790a884cebea5'), 'id_rablo': 'R123', 'cliente': 'Juan Pérez', 'productos': [{'nombre': 'Arduino Uno', 'cantidad': 1, 'precio_unitario': 45}], 'estatus': 'Finalizado', 'fecha_creacion': datetime.datetime(2025, 10, 25, 10, 0), 'fecha_respuesta': datetime.datetime(2025, 10, 27, 15, 0)}\n",
      "{'_id': ObjectId('6904f9ea2e3790a884cebea6'), 'id_rablo': 'R987', 'cliente': 'María Gómez', 'productos': [{'nombre': 'Sensor de luz', 'cantidad': 10, 'precio_unitario': 5}], 'estatus': 'Pendiente', 'fecha_creacion': datetime.datetime(2025, 10, 30, 11, 0), 'fecha_respuesta': None}\n"
     ]
    }
   ],
   "source": [
    "\n",
    "from pymongo import MongoClient\n",
    "\n",
    "client = MongoClient(\"mongodb://localhost:27017/\")\n",
    "db = client[\"miBaseDeDatos\"]\n",
    "collection = db[\"cotizaciones\"]\n",
    "\n",
    "for doc in collection.find():\n",
    "    print(doc)\n"
   ]
  },
  {
   "cell_type": "markdown",
   "id": "d10be458",
   "metadata": {},
   "source": [
    "\n",
    "## 5. Tipos de Consultas en MongoDB\n"
   ]
  },
  {
   "cell_type": "markdown",
   "id": "86ae6d39",
   "metadata": {},
   "source": [
    "### Consultas Básicas:\n",
    "SHELL"
   ]
  },
  {
   "cell_type": "code",
   "execution_count": null,
   "id": "9081efd6",
   "metadata": {
    "vscode": {
     "languageId": "shellscript"
    }
   },
   "outputs": [],
   "source": [
    "db.cotizaciones.find();\n",
    "db.cotizaciones.findOne({ id_rablo: \"R123\" });\n",
    "db.cotizaciones.find({ estatus: \"Pendiente\" });\n",
    "db.cotizaciones.find({ \"productos.nombre\": \"Arduino Uno\" });\n"
   ]
  },
  {
   "cell_type": "markdown",
   "id": "5863b655",
   "metadata": {},
   "source": [
    "PYTHON"
   ]
  },
  {
   "cell_type": "code",
   "execution_count": null,
   "id": "b4e92fd4",
   "metadata": {},
   "outputs": [
    {
     "name": "stdout",
     "output_type": "stream",
     "text": [
      "\n",
      "Documentos con estatus 'Pendiente':\n",
      "{'_id': ObjectId('6904f9ea2e3790a884cebea6'), 'id_rablo': 'R987', 'cliente': 'María Gómez', 'productos': [{'nombre': 'Sensor de luz', 'cantidad': 10, 'precio_unitario': 5}], 'estatus': 'Pendiente', 'fecha_creacion': datetime.datetime(2025, 10, 30, 11, 0), 'fecha_respuesta': None}\n"
     ]
    }
   ],
   "source": [
    "collection.find()\n",
    "collection.find_one({ \"id_rablo\": \"R123\" })\n",
    "collection.find({ \"estatus\": \"Pendiente\" })\n",
    "collection.find({ \"productos.nombre\": \"Arduino Uno\" })\n",
    "\n",
    "# Ejemplo:\n",
    "\n",
    "# Filtrar por estatus\n",
    "print(\"\\nDocumentos con estatus 'Pendiente':\")\n",
    "\n",
    "for doc in collection.find({\"estatus\": \"Pendiente\"}):\n",
    "    print(doc)\n"
   ]
  },
  {
   "cell_type": "markdown",
   "id": "7514f295",
   "metadata": {},
   "source": [
    "### Consultas con operadores:\n",
    "SHELL"
   ]
  },
  {
   "cell_type": "code",
   "execution_count": null,
   "id": "d30d9e7a",
   "metadata": {
    "vscode": {
     "languageId": "shellscript"
    }
   },
   "outputs": [],
   "source": [
    "\n",
    "db.cotizaciones.find({\n",
    "  fecha_creacion: { $lt: new Date(\"2025-10-25T00:00:00Z\") }\n",
    "});\n",
    "\n",
    "db.cotizaciones.find({\n",
    "  $or: [{ estatus: \"Pendiente\" }, { estatus: \"En proceso\" }]\n",
    "});\n"
   ]
  },
  {
   "cell_type": "markdown",
   "id": "5fcb9e6d",
   "metadata": {},
   "source": [
    "PYTHON"
   ]
  },
  {
   "cell_type": "code",
   "execution_count": null,
   "id": "d36ff648",
   "metadata": {},
   "outputs": [
    {
     "name": "stdout",
     "output_type": "stream",
     "text": [
      "{'_id': ObjectId('6904f9ea2e3790a884cebea4'), 'id_rablo': 'R123', 'cliente': 'Juan Pérez', 'productos': [{'nombre': 'Sensor de temperatura', 'cantidad': 5, 'precio_unitario': 25.5}, {'nombre': 'Motor DC', 'cantidad': 2, 'precio_unitario': 60}], 'estatus': 'En proceso', 'fecha_creacion': datetime.datetime(2025, 10, 31, 9, 0), 'fecha_respuesta': None}\n",
      "{'_id': ObjectId('6904f9ea2e3790a884cebea6'), 'id_rablo': 'R987', 'cliente': 'María Gómez', 'productos': [{'nombre': 'Sensor de luz', 'cantidad': 10, 'precio_unitario': 5}], 'estatus': 'Pendiente', 'fecha_creacion': datetime.datetime(2025, 10, 30, 11, 0), 'fecha_respuesta': None}\n"
     ]
    }
   ],
   "source": [
    "from datetime import datetime\n",
    "\n",
    "# $lt significa \"less than\" \n",
    "for doc in collection.find({\"fecha_creacion\": {\"$lt\": datetime(2025, 10, 25, 0, 0, 0)}}):\n",
    "    print(doc)\n",
    "\n",
    "\n",
    "query = {\n",
    "    \"$or\": [\n",
    "        {\"estatus\": \"Pendiente\"},\n",
    "        {\"estatus\": \"En proceso\"}\n",
    "    ]\n",
    "}\n",
    "\n",
    "for doc in collection.find(query):\n",
    "    print(doc)\n"
   ]
  },
  {
   "cell_type": "markdown",
   "id": "3dc4af55",
   "metadata": {},
   "source": [
    "### Proyección:\n",
    "SHELL"
   ]
  },
  {
   "cell_type": "code",
   "execution_count": null,
   "id": "c10686dc",
   "metadata": {
    "vscode": {
     "languageId": "shellscript"
    }
   },
   "outputs": [],
   "source": [
    "\n",
    "# Proyección en SHELL\n",
    "db.cotizaciones.find(\n",
    "  { id_rablo: \"R123\" },\n",
    "  { cliente: 1, estatus: 1, fecha_creacion: 1, _id: 0 }\n",
    ");\n",
    "\n",
    "# Ordenamiento en SHELL\n",
    "db.cotizaciones.find().sort({ fecha_creacion: -1 }).limit(3);\n"
   ]
  },
  {
   "cell_type": "markdown",
   "id": "a55ddd01",
   "metadata": {},
   "source": [
    "PYTHON"
   ]
  },
  {
   "cell_type": "code",
   "execution_count": 25,
   "id": "5a63bfd5",
   "metadata": {},
   "outputs": [
    {
     "name": "stdout",
     "output_type": "stream",
     "text": [
      "{'cliente': 'Juan Pérez', 'estatus': 'En proceso', 'fecha_creacion': datetime.datetime(2025, 10, 31, 9, 0)}\n",
      "{'cliente': 'Juan Pérez', 'estatus': 'Finalizado', 'fecha_creacion': datetime.datetime(2025, 10, 25, 10, 0)}\n",
      "{'_id': ObjectId('6904f9ea2e3790a884cebea4'), 'id_rablo': 'R123', 'cliente': 'Juan Pérez', 'productos': [{'nombre': 'Sensor de temperatura', 'cantidad': 5, 'precio_unitario': 25.5}, {'nombre': 'Motor DC', 'cantidad': 2, 'precio_unitario': 60}], 'estatus': 'En proceso', 'fecha_creacion': datetime.datetime(2025, 10, 31, 9, 0), 'fecha_respuesta': None}\n",
      "{'_id': ObjectId('6904f9ea2e3790a884cebea6'), 'id_rablo': 'R987', 'cliente': 'María Gómez', 'productos': [{'nombre': 'Sensor de luz', 'cantidad': 10, 'precio_unitario': 5}], 'estatus': 'Pendiente', 'fecha_creacion': datetime.datetime(2025, 10, 30, 11, 0), 'fecha_respuesta': None}\n",
      "{'_id': ObjectId('6904f9ea2e3790a884cebea5'), 'id_rablo': 'R123', 'cliente': 'Juan Pérez', 'productos': [{'nombre': 'Arduino Uno', 'cantidad': 1, 'precio_unitario': 45}], 'estatus': 'Finalizado', 'fecha_creacion': datetime.datetime(2025, 10, 25, 10, 0), 'fecha_respuesta': datetime.datetime(2025, 10, 27, 15, 0)}\n"
     ]
    }
   ],
   "source": [
    "# Proyeccion y ordenamiento en PYTHON\n",
    "\n",
    "# Filtrar documentos con id_rablo = \"R123\"\n",
    "query = {\"id_rablo\": \"R123\"}\n",
    "\n",
    "# Proyección: seleccionar únicamente los campos deseados\n",
    "# 1 = incluir, 0 = excluir\n",
    "projection = {\"cliente\": 1, \"estatus\": 1, \"fecha_creacion\": 1, \"_id\": 0}\n",
    "\n",
    "for doc in collection.find(query, projection):\n",
    "    print(doc)\n",
    "\n",
    "# Ordenar los documentos por fecha_creacion descendente (-1)\n",
    "# y tomar solo los primeros 3 documentos\n",
    "for doc in collection.find().sort(\"fecha_creacion\", -1).limit(3):\n",
    "    print(doc)"
   ]
  },
  {
   "cell_type": "markdown",
   "id": "0682465d",
   "metadata": {},
   "source": [
    "## 6. Actualización y Eliminación"
   ]
  },
  {
   "cell_type": "code",
   "execution_count": null,
   "id": "1cc68518",
   "metadata": {
    "vscode": {
     "languageId": "shellscript"
    }
   },
   "outputs": [],
   "source": [
    "\n",
    "# Actualizar estatus\n",
    "db.cotizaciones.updateOne(\n",
    "  { id_rablo: \"R987\" },\n",
    "  { $set: { estatus: \"Finalizado\", fecha_respuesta: new Date() } }\n",
    ");\n",
    "\n",
    "# Agregar producto\n",
    "db.cotizaciones.updateOne(\n",
    "  { id_rablo: \"R123\", estatus: \"En proceso\" },\n",
    "  { $push: { productos: { nombre: \"Relay\", cantidad: 4, precio_unitario: 10 } } }\n",
    ");\n",
    "\n",
    "# Eliminar\n",
    "db.cotizaciones.deleteOne({ estatus: \"Finalizado\" });\n"
   ]
  },
  {
   "cell_type": "markdown",
   "id": "aedf21de",
   "metadata": {},
   "source": [
    "## 7. Agregaciones"
   ]
  },
  {
   "cell_type": "code",
   "execution_count": null,
   "id": "f7c9f574",
   "metadata": {
    "vscode": {
     "languageId": "shellscript"
    }
   },
   "outputs": [],
   "source": [
    "\n",
    "# Total de cotizaciones por cliente\n",
    "db.cotizaciones.aggregate([\n",
    "  { $group: { _id: \"$id_rablo\", total_cotizaciones: { $sum: 1 } } }\n",
    "]);\n"
   ]
  },
  {
   "cell_type": "code",
   "execution_count": null,
   "id": "6719e37c",
   "metadata": {
    "vscode": {
     "languageId": "shellscript"
    }
   },
   "outputs": [],
   "source": [
    "\n",
    "# Promedio de precio por producto\n",
    "db.cotizaciones.aggregate([\n",
    "  { $unwind: \"$productos\" },\n",
    "  { $group: { _id: \"$productos.nombre\", promedio_precio: { $avg: \"$productos.precio_unitario\" } } },\n",
    "  { $sort: { promedio_precio: -1 } }\n",
    "]);\n"
   ]
  },
  {
   "cell_type": "code",
   "execution_count": null,
   "id": "f9b17c46",
   "metadata": {
    "vscode": {
     "languageId": "shellscript"
    }
   },
   "outputs": [],
   "source": [
    "\n",
    "# Valor total por cotización\n",
    "db.cotizaciones.aggregate([\n",
    "  { $unwind: \"$productos\" },\n",
    "  {\n",
    "    $group: {\n",
    "      _id: \"$_id\",\n",
    "      cliente: { $first: \"$cliente\" },\n",
    "      total: { $sum: { $multiply: [\"$productos.cantidad\", \"$productos.precio_unitario\"] } }\n",
    "    }\n",
    "  },\n",
    "  { $sort: { total: -1 } }\n",
    "]);\n"
   ]
  },
  {
   "cell_type": "markdown",
   "id": "058cb6a6",
   "metadata": {},
   "source": [
    "\n",
    "## 8. Resumen: MongoDB en el Desarrollo Real 💡\n",
    "\n",
    "| Etapa | Descripción | Ejemplo |\n",
    "|--------|--------------|----------|\n",
    "| Modelado flexible | MongoDB permite adaptar la estructura de los datos sin redefinir esquemas | Cotizaciones con campos opcionales por cliente |\n",
    "| Inserción ágil | Ideal para datos que llegan desde APIs, logs o IoT | Guardar solicitudes en tiempo real |\n",
    "| Consultas dinámicas | Filtros por estado, cliente o fechas | `find({estatus:\"En proceso\"})` |\n",
    "| Agregaciones analíticas | Procesamiento de métricas sin exportar a SQL | Calcular totales o promedios |\n",
    "| Integración con Python / Node.js | Uso con PyMongo o Mongoose | Dashboards o sistemas internos |\n",
    "\n",
    "**Conclusión:** MongoDB ofrece un enfoque documental, flexible y escalable para manejar datos complejos o no estructurados.  \n",
    "El framework de agregación lo convierte en una herramienta poderosa para analítica interna sin necesidad de SQL.\n"
   ]
  },
  {
   "cell_type": "markdown",
   "id": "050d0372",
   "metadata": {},
   "source": [
    "\n",
    "## 9 Valor agregado sobre SQL\n",
    "\n",
    "| Característica         | MongoDB (NoSQL)                                                                 | SQL (Relacional)                                           | Ventaja MongoDB                                                        |\n",
    "|------------------------|---------------------------------------------------------------------------------|------------------------------------------------------------|------------------------------------------------------------------------|\n",
    "| Esquema flexible       | Documentos JSON/BSON                                                             | Tablas rígidas                                             | Se pueden agregar campos o estructuras anidadas sin migraciones.      |\n",
    "| Procesamiento de arrays| `$unwind` permite expandir arrays                                               | Requiere `JOIN` o subqueries                               | Más natural y rápido para estructuras jerárquicas.                     |\n",
    "| Pipeline               | Permite múltiples etapas (filtrar, proyectar, agrupar, ordenar) en un solo flujo | SQL necesita combinar `WHERE`, `GROUP BY`, `HAVING`, subqueries | Más legible y eficiente para análisis complejos.                       |\n",
    "| Datos jerárquicos      | Los documentos pueden contener arrays y objetos anidados                        | Normalmente se normaliza en múltiples tablas              | Se reduce la necesidad de múltiples joins, mejora la velocidad.       |\n",
    "| Escalabilidad horizontal | Fácil de shardear y distribuir                                                  | Más complejo                                               | Ideal para grandes volúmenes de datos.                                 |\n",
    "\n",
    "---\n",
    "\n",
    "### ✅ Conclusión\n",
    "\n",
    "Las agregaciones en MongoDB:\n",
    "\n",
    "- Permiten **analizar y resumir grandes volúmenes de datos directamente en la base**, evitando traerlos a la aplicación.  \n",
    "- Manejan **estructuras jerárquicas y arrays de forma natural**, algo que en SQL requiere joins complicados.  \n",
    "- Ofrecen un **flujo en pipeline muy flexible** para combinar filtrado, agrupamiento, proyección y ordenamiento.  \n",
    "- Dan **rapidez y escalabilidad** en sistemas que manejan millones de documentos.  \n",
    "\n",
    "En resumen, **MongoDB agrega valor** cuando necesitas análisis sobre datos semi-estructurados o jerárquicos, sin sacrificar rendimiento, algo que sería mucho más engorroso en SQL."
   ]
  }
 ],
 "metadata": {
  "kernelspec": {
   "display_name": "Python 3",
   "language": "python",
   "name": "python3"
  },
  "language_info": {
   "codemirror_mode": {
    "name": "ipython",
    "version": 3
   },
   "file_extension": ".py",
   "mimetype": "text/x-python",
   "name": "python",
   "nbconvert_exporter": "python",
   "pygments_lexer": "ipython3",
   "version": "3.13.7"
  }
 },
 "nbformat": 4,
 "nbformat_minor": 5
}
